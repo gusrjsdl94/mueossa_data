{
 "cells": [
  {
   "cell_type": "code",
   "execution_count": null,
   "id": "40917c96",
   "metadata": {},
   "outputs": [],
   "source": [
    "!pip install pandas scikit-learn\n",
    "\n",
    "# 1. 필요한 라이브러리 임포트\n",
    "import pandas as pd\n",
    "from sklearn.feature_extraction.text import TfidfVectorizer\n",
    "\n",
    "# 2. 데이터 로드\n",
    "df = pd.read_csv('tagged_review_data_전체신발.csv', encoding='utf-8-sig')\n",
    "\n",
    "# 3. TF-IDF 벡터화\n",
    "vectorizer = TfidfVectorizer(max_features=1000)\n",
    "tfidf_matrix = vectorizer.fit_transform(df['tagged_review'].astype(str))  # NaN 방지\n",
    "\n",
    "# 4. 단어 리스트 가져오기\n",
    "feature_names = vectorizer.get_feature_names_out()\n",
    "\n",
    "# 5. 밀집 행렬로 변환\n",
    "dense = tfidf_matrix.todense()\n",
    "tf_idf_df = pd.DataFrame(dense, columns=feature_names)\n",
    "\n",
    "# tfidf 높은 순부터 정렬하기\n",
    "\n",
    "# 6. 단어별 평균 TF-IDF 점수 계산\n",
    "word_avg_tfidf = tf_idf_df.mean(axis=0).sort_values(ascending=False)\n",
    "\n",
    "# 7. DataFrame으로 정리 + 정렬 + 반올림\n",
    "result_df = pd.DataFrame({\n",
    "    'word': word_avg_tfidf.index,\n",
    "    'tf-idf': word_avg_tfidf.values\n",
    "}).round(6).sort_values(by='tf-idf', ascending=False).reset_index(drop=True)\n",
    "\n",
    "# 8. 저장\n",
    "result_df.to_csv('review_tf-idf.csv', index=False, encoding='utf-8-sig')\n",
    "\n",
    "# 9. 결과 확인\n",
    "result_df\n"
   ]
  }
 ],
 "metadata": {
  "language_info": {
   "name": "python"
  }
 },
 "nbformat": 4,
 "nbformat_minor": 5
}

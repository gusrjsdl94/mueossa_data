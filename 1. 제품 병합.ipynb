{
 "cells": [
  {
   "cell_type": "code",
   "execution_count": null,
   "id": "9ca942d0",
   "metadata": {},
   "outputs": [],
   "source": [
    "import pandas as pd\n",
    "\n",
    "# 제품 리스트 병합\n",
    "df1 = pd.read_csv('tagged_review_data_구두.csv', encoding='utf-8')\n",
    "df2 = pd.read_csv('tagged_review_data_부츠.csv', encoding='utf-8')\n",
    "df3 = pd.read_csv('tagged_review_data_샌들.csv', encoding='utf-8')\n",
    "df4 = pd.read_csv('tagged_review_data_스니커즈.csv', encoding='utf-8')\n",
    "\n",
    "df_merge1 = pd.concat([df1, df2, df3, df4], ignore_index=True)\n",
    "\n",
    "df_merge1.to_csv('product_list_전체신발.csv', index=False, encoding='utf-8-sig')"
   ]
  },
  {
   "cell_type": "code",
   "execution_count": null,
   "id": "7423579a",
   "metadata": {},
   "outputs": [],
   "source": [
    "# 제품 리뷰 병합\n",
    "df5 = pd.read_csv('product_list_구두_count.csv', encoding='utf-8')\n",
    "df6 = pd.read_csv('product_list_부츠_count.csv', encoding='utf-8')\n",
    "df7 = pd.read_csv('product_list_샌들_count.csv', encoding='utf-8')\n",
    "df8 = pd.read_csv('product_list_스니커즈_count.csv', encoding='utf-8')\n",
    "\n",
    "df_merge2 = pd.concat([df5, df6, df7, df8], ignore_index=True)\n",
    "\n",
    "df_merge2.to_csv('tagged_review_data_전체신발.csv', index=False, encoding='utf-8-sig')"
   ]
  },
  {
   "cell_type": "code",
   "execution_count": null,
   "id": "e07d7851",
   "metadata": {},
   "outputs": [],
   "source": [
    "# product_list_전체신발 데이터 정리\n",
    "\n",
    "# 필요없는 컬럼 삭제 및 이름 변경\n",
    "df_merge1 = df_merge1.drop(columns=['category1'])\n",
    "df_merge1.rename(columns={'category2': 'group', 'category3' : 'type'}, inplace=True)\n",
    "df_merge1.to_csv('tagged_review_data_전체신발.csv', index=False, encoding='utf-8-sig')\n",
    "\n",
    "# 상세 이미지가 과하게 많은 제품 삭제\n",
    "# 2690910\n",
    "# 2440527\n",
    "# 2440524\n",
    "# 2085590\n",
    "# 1072155\n",
    "df_merge1 = df_merge1[df_merge1['id'] != 2690910]\n",
    "df_merge1 = df_merge1[df_merge1['id'] != 2440527]\n",
    "df_merge1 = df_merge1[df_merge1['id'] != 2440524]\n",
    "df_merge1 = df_merge1[df_merge1['id'] != 2085590]\n",
    "df_merge1 = df_merge1[df_merge1['id'] != 1072155]\n",
    "\n",
    "# 비어있는 상세 이미지 컬럼 삭제 및 재저장\n",
    "df_merge1.drop(columns=['detailed_image_28', 'detailed_image_29', 'detailed_image_30', 'detailed_image_31'], inplace=True, errors='ignore')\n",
    "df_merge1.to_csv('product_list_전체신발.csv', index=False, encoding='utf-8-sig')"
   ]
  },
  {
   "cell_type": "code",
   "execution_count": null,
   "id": "51f0015a",
   "metadata": {},
   "outputs": [],
   "source": [
    "# 제품 설명 및 리뷰 데이터간의 대응되지 않는 데이터 삭제\n",
    "\n",
    "product_list = pd.read_csv('product_list_전체신발.csv', encoding='utf-8-sig')\n",
    "review_data = pd.read_csv('tagged_review_data_전체신발.csv', encoding='utf-8-sig')\n",
    "\n",
    "# review_data_df의 id에 포함되지 않은 product_list_df의 id를 가진 행 제거\n",
    "product_list_df = product_list[product_list['id'].isin(review_data['id'])]\n",
    "\n",
    "# product_list_df의 id에 포함되지 않은 review_data_df의 id를 가진 행 제거\n",
    "review_data_df = review_data[review_data['id'].isin(product_list['id'])]\n",
    "\n",
    "# 확인\n",
    "print(len(review_data_df.id.unique()))\n",
    "len(product_list_df.id.unique())\n",
    "\n",
    "# 저장\n",
    "product_list_df.to_csv('product_list_전체신발.csv', index=False, encoding='utf-8-sig')\n",
    "review_data_df.to_csv('tagged_review_data_전체신발.csv', index=False, encoding='utf-8-sig')\n"
   ]
  },
  {
   "cell_type": "code",
   "execution_count": null,
   "id": "89ffff4e",
   "metadata": {},
   "outputs": [],
   "source": [
    "import pandas as pd\n",
    "reviews = pd.read_csv('./data/tagged_review_data_전체신발', encoding='utf-8-sig')"
   ]
  }
 ],
 "metadata": {
  "kernelspec": {
   "display_name": "Python 3",
   "language": "python",
   "name": "python3"
  },
  "language_info": {
   "codemirror_mode": {
    "name": "ipython",
    "version": 3
   },
   "file_extension": ".py",
   "mimetype": "text/x-python",
   "name": "python",
   "nbconvert_exporter": "python",
   "pygments_lexer": "ipython3",
   "version": "3.11.8"
  }
 },
 "nbformat": 4,
 "nbformat_minor": 5
}

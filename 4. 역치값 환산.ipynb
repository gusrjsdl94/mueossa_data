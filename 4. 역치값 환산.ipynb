{
 "cells": [
  {
   "cell_type": "code",
   "execution_count": 1,
   "id": "9f6643fd",
   "metadata": {},
   "outputs": [],
   "source": [
    "import pandas as pd\n",
    "import numpy as np\n",
    "import seaborn as sns\n",
    "import matplotlib.pyplot as plt"
   ]
  },
  {
   "cell_type": "code",
   "execution_count": 3,
   "id": "92bc157d",
   "metadata": {},
   "outputs": [],
   "source": [
    "# 데이터를 보고 적절한 역치 값 설정\n",
    "# 데이터 불러오기\n",
    "df = pd.read_csv('./data/제품별_카테고리_비율.csv', encoding='utf-8')"
   ]
  },
  {
   "cell_type": "code",
   "execution_count": 8,
   "id": "e9d3475d",
   "metadata": {},
   "outputs": [
    {
     "name": "stderr",
     "output_type": "stream",
     "text": [
      "C:\\Users\\smhrd\\AppData\\Local\\Temp\\ipykernel_8584\\1661482996.py:1: UserWarning: \n",
      "\n",
      "`distplot` is a deprecated function and will be removed in seaborn v0.14.0.\n",
      "\n",
      "Please adapt your code to use either `displot` (a figure-level function with\n",
      "similar flexibility) or `histplot` (an axes-level function for histograms).\n",
      "\n",
      "For a guide to updating your code to use the new functions, please see\n",
      "https://gist.github.com/mwaskom/de44147ed2974457ad6372750bbe5751\n",
      "\n",
      "  sns.distplot(df['푹신한'], bins=100, kde=True)\n",
      "c:\\Users\\smhrd\\AppData\\Local\\Programs\\Orange\\Lib\\site-packages\\IPython\\core\\pylabtools.py:170: UserWarning: Glyph 54393 (\\N{HANGUL SYLLABLE PUG}) missing from font(s) DejaVu Sans.\n",
      "  fig.canvas.print_figure(bytes_io, **kw)\n",
      "c:\\Users\\smhrd\\AppData\\Local\\Programs\\Orange\\Lib\\site-packages\\IPython\\core\\pylabtools.py:170: UserWarning: Glyph 49888 (\\N{HANGUL SYLLABLE SIN}) missing from font(s) DejaVu Sans.\n",
      "  fig.canvas.print_figure(bytes_io, **kw)\n",
      "c:\\Users\\smhrd\\AppData\\Local\\Programs\\Orange\\Lib\\site-packages\\IPython\\core\\pylabtools.py:170: UserWarning: Glyph 54620 (\\N{HANGUL SYLLABLE HAN}) missing from font(s) DejaVu Sans.\n",
      "  fig.canvas.print_figure(bytes_io, **kw)\n"
     ]
    },
    {
     "data": {
      "image/png": "[encoded data removed]",
      "text/plain": [
       "<Figure size 640x480 with 1 Axes>"
      ]
     },
     "metadata": {},
     "output_type": "display_data"
    }
   ],
   "source": [
    "sns.distplot(df['푹신한'], bins=100, kde=True)\n",
    "plt.show()"
   ]
  },
  {
   "cell_type": "code",
   "execution_count": 9,
   "id": "93bfcb0c",
   "metadata": {},
   "outputs": [
    {
     "data": {
      "text/plain": [
       "count    633.000000\n",
       "mean       2.702401\n",
       "std        3.595853\n",
       "min        0.000000\n",
       "25%        0.460000\n",
       "50%        1.280000\n",
       "75%        3.430000\n",
       "max       26.890000\n",
       "Name: 푹신한, dtype: float64"
      ]
     },
     "execution_count": 9,
     "metadata": {},
     "output_type": "execute_result"
    }
   ],
   "source": [
    "# 상위 25%의 비율을 가진 제품을 편하다고 판단\n",
    "df['푹신한'].describe()"
   ]
  },
  {
   "cell_type": "code",
   "execution_count": null,
   "id": "acec0029",
   "metadata": {},
   "outputs": [
    {
     "data": {
      "text/plain": [
       "37.57"
      ]
     },
     "execution_count": 6,
     "metadata": {},
     "output_type": "execute_result"
    }
   ],
   "source": [
    "# 각 컬럼의 상위 25% 비율 값 정리\n",
    "df['편하다'].quantile(0.75)\n",
    "# 편하다고 판단되는 제품의 비율을 가진 제품들만 추출\n",
    "# db에 넣어둘지 아니면 꺼낼때 조건문 넣을지"
   ]
  },
  {
   "cell_type": "code",
   "execution_count": 7,
   "id": "df09cf4f",
   "metadata": {},
   "outputs": [
    {
     "data": {
      "text/plain": [
       "Index(['product_id', '편하다', '푹신한', '가벼운', '부드럽다', '딱딱하다', '이쁘다', '귀엽다', '깔끔하다',\n",
       "       '모던한', '휘뚜루마뚜루', '크다', '정사이즈', '작다', '가성비', '내구성'],\n",
       "      dtype='object')"
      ]
     },
     "execution_count": 7,
     "metadata": {},
     "output_type": "execute_result"
    }
   ],
   "source": [
    "df.columns"
   ]
  },
  {
   "cell_type": "code",
   "execution_count": 4,
   "id": "e65d098f",
   "metadata": {},
   "outputs": [
    {
     "data": {
      "text/plain": [
       "[{'편한': 26.47},\n",
       " {'푹신한': 1.28},\n",
       " {'가벼운': 2.4},\n",
       " {'부드러운': 0.48},\n",
       " {'플랫한': 1.74},\n",
       " {'예쁜': 34.96},\n",
       " {'귀여운': 1.14},\n",
       " {'깔끔한': 2.19},\n",
       " {'모던한': 0.52},\n",
       " {'휘뚜루마뚜루': 17.95},\n",
       " {'발볼이 넓은': 14.14},\n",
       " {'발볼이 보통': 19.8},\n",
       " {'발볼이 좁은': 10.36},\n",
       " {'가격이 착한': 10.1},\n",
       " {'튼튼한': 3.12}]"
      ]
     },
     "execution_count": 4,
     "metadata": {},
     "output_type": "execute_result"
    }
   ],
   "source": [
    "threshold_list = [{column:df[column].quantile(0.5)} for column in df.columns[1:]]\n",
    "threshold_list"
   ]
  },
  {
   "cell_type": "code",
   "execution_count": null,
   "id": "f5ea3a40",
   "metadata": {},
   "outputs": [],
   "source": [
    "import pandas as pd\n",
    "\n",
    "# 1. 파일 불러오기\n",
    "df = pd.read_csv(\"./data/제품별_카테고리_비율.csv\")\n",
    "\n",
    "# 2. 카테고리별 상위 25% 기준값 수동 정의 (또는 자동 계산 가능)\n",
    "threshold_dict = {\n",
    "    '편하다': 37.57, '푹신한': 3.43, '가벼운': 5.5, '부드럽다': 1.07, '딱딱하다': 3.2,\n",
    "    '이쁘다': 45.62, '귀엽다': 3.41, '깔끔하다': 3.96, '모던한': 1.09, '휘뚜루마뚜루': 24.65,\n",
    "    '크다': 20.7, '정사이즈': 23.66, '작다': 15.47, '가성비': 17.41, '내구성': 5.35\n",
    "}\n",
    "\n",
    "# 3. 결과 DataFrame 준비\n",
    "result_df = df[['product_id']].copy()\n",
    "\n",
    "# 4. 각 카테고리별로 비율이 threshold 초과하면 'y', 아니면 'n'\n",
    "for category, threshold in threshold_dict.items():\n",
    "    result_df[category] = df[category].apply(lambda x: 'y' if x > threshold else 'n')\n",
    "\n",
    "# 5. 결과 저장\n",
    "result_df.to_csv(\"제품별_카테고리_상위50_여부_yn.csv\", index=False)\n"
   ]
  },
  {
   "cell_type": "code",
   "execution_count": null,
   "id": "c44eeb83",
   "metadata": {},
   "outputs": [],
   "source": [
    "import pandas as pd\n",
    "\n",
    "# 1. 파일 불러오기\n",
    "df = pd.read_csv(\"제품별_카테고리_비율.csv\")\n",
    "\n",
    "# 2. 카테고리별 상위 50% 기준값 수동 정의 (또는 자동 계산 가능)\n",
    "threshold_dict = {\n",
    "    '편한': 26.47, '푹신한': 1.28, '가벼운': 2.4, '부드러운': 0.48, '딱딱한': 1.74,\n",
    "    '예쁜': 34.96, '귀여운': 1.14, '깔끔한': 2.19, '모던한': 0.52, '휘뚜루마뚜루': 17.95,\n",
    "    '발볼이 넓은': 14.14, '발볼이 보통': 19.8, '발볼이 좁은': 10.36, '가격이 착한': 10.1, '튼튼한': 3.12\n",
    "}\n",
    "\n",
    "# 3. 결과 DataFrame 준비\n",
    "result_df = df[['product_id']].copy()\n",
    "\n",
    "# 4. 각 카테고리별로 비율이 threshold 초과하면 'y', 아니면 'n'\n",
    "for category, threshold in threshold_dict.items():\n",
    "    result_df[category] = df[category].apply(lambda x: 'y' if x > threshold else 'n')\n",
    "\n",
    "# 5. 결과 저장\n",
    "result_df.to_csv(\"제품별_카테고리_상위50_여부_yn.csv\", index=False)\n"
   ]
  },
  {
   "cell_type": "code",
   "execution_count": null,
   "id": "8dab86cc",
   "metadata": {},
   "outputs": [],
   "source": [
    "# 긍부정 라벨링\n",
    "\n",
    "# predict-porba() 긍부정 점수 환산 함수\n",
    "\n",
    "# 라이브러리 사용해서 긍부정 라벨링 진행하고 그 결과를 직접 확인하는 방법 채택\n",
    "# KC-BERT\n",
    "\n",
    "# 최종 점수 = 리뷰 감성 점수 + 제품 평점 + 리뷰 수(삭제가능)\n",
    "\n",
    "\n",
    "# 발표 시 컨텐츠 기반 데이터 필터링했다!\n",
    "# WORD-VECTOR, EMBEDDING\n",
    "\n",
    "\n"
   ]
  },
  {
   "cell_type": "code",
   "execution_count": null,
   "id": "c8f95b14",
   "metadata": {},
   "outputs": [],
   "source": [
    "# 상품별 Y에 해당하는 키워드 수 집계\n",
    "df = pd.read_csv('./data/제품별_카테고리_상위25_여부_yn.csv', encoding='utf-8')\n",
    "\n",
    "# 'product_id'를 제외한 모든 컬럼에서 'y' 값의 개수를 세서 새로운 컬럼 'Y_count'에 저장\n",
    "df['Y_count'] = (df.drop(columns=['product_id']) == 'y').sum(axis=1)\n",
    "\n",
    "# 결과 확인\n",
    "df_sorted = df[['product_id', 'Y_count']].sort_values(by='Y_count', ascending=False)\n",
    "df_sorted.to_csv('./data/상품별Y카테고리개수.csv', index=False, encoding='utf-8-sig')\n"
   ]
  },
  {
   "cell_type": "code",
   "execution_count": 31,
   "id": "3556386e",
   "metadata": {},
   "outputs": [],
   "source": [
    "# pd_group별 어떤 키워드가 가장 많이 나오는지\n",
    "product_df = pd.read_csv(\"./data/product_list_전체신발_MFA.csv\", encoding='utf-8')\n",
    "df_yn = pd.read_csv(\"./data/제품별_카테고리_상위25_여부_yn.csv\", encoding='utf-8')\n",
    "\n",
    "# 먼저 두 파일을 병합하기 위해 'product_id'를 'id'로 맞춤\n",
    "df_yn_renamed = df.rename(columns={'product_id': 'id'})\n",
    "\n",
    "# 병합: 'id' 기준으로 product 정보와 YN 여부를 연결\n",
    "merged_all = pd.merge(product_df[['id', 'group']], df_yn_renamed, on='id', how='inner')\n",
    "\n",
    "# 카테고리 키워드 컬럼들만 추출\n",
    "category_columns = df_yn_renamed.columns.drop('id')\n",
    "\n",
    "# group별로 각 카테고리 키워드의 'y' 빈도 수 계산\n",
    "group_category_counts = merged_all.groupby('group')[category_columns].apply(lambda x: (x == 'y').sum())\n",
    "\n",
    "# 그룹명을 수동으로 추가 (파일 순서에 따라 일치한다고 가정)\n",
    "group_names = ['구두', '부츠/워커', '샌들/슬리퍼', '스니커즈']\n",
    "group_category_counts.insert(0, 'group', group_names)\n",
    "\n",
    "group_category_counts.to_csv('./data/그룹별 키워드 빈도 수.csv', index=False, encoding='utf-8-sig')\n",
    "\n"
   ]
  },
  {
   "cell_type": "code",
   "execution_count": null,
   "id": "e89ad4f8",
   "metadata": {},
   "outputs": [],
   "source": []
  },
  {
   "cell_type": "code",
   "execution_count": null,
   "id": "65c4766f",
   "metadata": {},
   "outputs": [],
   "source": []
  }
 ],
 "metadata": {
  "kernelspec": {
   "display_name": "Python 3",
   "language": "python",
   "name": "python3"
  },
  "language_info": {
   "codemirror_mode": {
    "name": "ipython",
    "version": 3
   },
   "file_extension": ".py",
   "mimetype": "text/x-python",
   "name": "python",
   "nbconvert_exporter": "python",
   "pygments_lexer": "ipython3",
   "version": "3.11.8"
  }
 },
 "nbformat": 4,
 "nbformat_minor": 5
}
